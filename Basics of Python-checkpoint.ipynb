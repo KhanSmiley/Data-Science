{
 "cells": [
  {
   "cell_type": "code",
   "execution_count": 1,
   "id": "dc0b00e8",
   "metadata": {},
   "outputs": [
    {
     "name": "stdout",
     "output_type": "stream",
     "text": [
      "Hello World\n"
     ]
    }
   ],
   "source": [
    "print(\"Hello World\")"
   ]
  },
  {
   "cell_type": "code",
   "execution_count": 2,
   "id": "088e0f3b",
   "metadata": {},
   "outputs": [
    {
     "name": "stdout",
     "output_type": "stream",
     "text": [
      "Welcome!\n"
     ]
    }
   ],
   "source": [
    "print(\"Welcome!\")"
   ]
  },
  {
   "cell_type": "markdown",
   "id": "d76f7372",
   "metadata": {},
   "source": [
    "### Data Types"
   ]
  },
  {
   "cell_type": "code",
   "execution_count": 3,
   "id": "d5bdbf05",
   "metadata": {},
   "outputs": [
    {
     "data": {
      "text/plain": [
       "str"
      ]
     },
     "execution_count": 3,
     "metadata": {},
     "output_type": "execute_result"
    }
   ],
   "source": [
    "a=\"Python\"\n",
    "type(a)"
   ]
  },
  {
   "cell_type": "code",
   "execution_count": 4,
   "id": "fc3dfe8a",
   "metadata": {},
   "outputs": [
    {
     "data": {
      "text/plain": [
       "float"
      ]
     },
     "execution_count": 4,
     "metadata": {},
     "output_type": "execute_result"
    }
   ],
   "source": [
    "b=5.2\n",
    "type(b)"
   ]
  },
  {
   "cell_type": "code",
   "execution_count": 5,
   "id": "62c42096",
   "metadata": {},
   "outputs": [
    {
     "data": {
      "text/plain": [
       "int"
      ]
     },
     "execution_count": 5,
     "metadata": {},
     "output_type": "execute_result"
    }
   ],
   "source": [
    "c=3\n",
    "type(c)"
   ]
  },
  {
   "cell_type": "code",
   "execution_count": 6,
   "id": "ca93f97e",
   "metadata": {},
   "outputs": [
    {
     "data": {
      "text/plain": [
       "complex"
      ]
     },
     "execution_count": 6,
     "metadata": {},
     "output_type": "execute_result"
    }
   ],
   "source": [
    "d=3+2j\n",
    "type(d)"
   ]
  },
  {
   "cell_type": "code",
   "execution_count": 7,
   "id": "3b6c7047",
   "metadata": {},
   "outputs": [
    {
     "data": {
      "text/plain": [
       "bool"
      ]
     },
     "execution_count": 7,
     "metadata": {},
     "output_type": "execute_result"
    }
   ],
   "source": [
    "x=False\n",
    "type(x)"
   ]
  },
  {
   "cell_type": "code",
   "execution_count": 8,
   "id": "d20aad3a",
   "metadata": {},
   "outputs": [
    {
     "data": {
      "text/plain": [
       "str"
      ]
     },
     "execution_count": 8,
     "metadata": {},
     "output_type": "execute_result"
    }
   ],
   "source": [
    "x=\"True\"\n",
    "type(x)"
   ]
  },
  {
   "cell_type": "markdown",
   "id": "8e68581e",
   "metadata": {},
   "source": [
    "### Rules for Naming Variables"
   ]
  },
  {
   "cell_type": "markdown",
   "id": "b4420ff8",
   "metadata": {},
   "source": [
    "#### Variable name should not start with number\n",
    "#### Variable name does not allow Scpl Characters {only _ underscore is valid}\n",
    "#### Space is not allowed\n",
    "#### Variable name can start with A-Z,a-z\n",
    "#### Case Sensitive"
   ]
  },
  {
   "cell_type": "code",
   "execution_count": 9,
   "id": "071791a2",
   "metadata": {},
   "outputs": [
    {
     "data": {
      "text/plain": [
       "('Apple', 'Cherry')"
      ]
     },
     "execution_count": 9,
     "metadata": {},
     "output_type": "execute_result"
    }
   ],
   "source": [
    "fruits=\"Apple\",\"Cherry\"\n",
    "fruits"
   ]
  },
  {
   "cell_type": "code",
   "execution_count": 10,
   "id": "f6d321e9",
   "metadata": {},
   "outputs": [
    {
     "data": {
      "text/plain": [
       "('Strawberry', 'Melon')"
      ]
     },
     "execution_count": 10,
     "metadata": {},
     "output_type": "execute_result"
    }
   ],
   "source": [
    "_fruits=\"Strawberry\",\"Melon\"\n",
    "_fruits"
   ]
  },
  {
   "cell_type": "markdown",
   "id": "58a88c6f",
   "metadata": {},
   "source": [
    "### Data Structures"
   ]
  },
  {
   "cell_type": "code",
   "execution_count": 11,
   "id": "40f206ac",
   "metadata": {},
   "outputs": [
    {
     "data": {
      "text/plain": [
       "tuple"
      ]
     },
     "execution_count": 11,
     "metadata": {},
     "output_type": "execute_result"
    }
   ],
   "source": [
    "x = \"Apple\",\"Mangoes\",\"Cherry\"\n",
    "type(x)"
   ]
  },
  {
   "cell_type": "code",
   "execution_count": 12,
   "id": "3f66f466",
   "metadata": {},
   "outputs": [
    {
     "data": {
      "text/plain": [
       "list"
      ]
     },
     "execution_count": 12,
     "metadata": {},
     "output_type": "execute_result"
    }
   ],
   "source": [
    "x = [\"Apple\",\"Mangoes\",\"Cherry\"]\n",
    "type(x)"
   ]
  },
  {
   "cell_type": "code",
   "execution_count": 13,
   "id": "0fc55341",
   "metadata": {},
   "outputs": [
    {
     "data": {
      "text/plain": [
       "set"
      ]
     },
     "execution_count": 13,
     "metadata": {},
     "output_type": "execute_result"
    }
   ],
   "source": [
    "x = {\"Apple\",\"Mangoes\",\"Cherry\"}\n",
    "type(x)"
   ]
  },
  {
   "cell_type": "code",
   "execution_count": 14,
   "id": "84cec21b",
   "metadata": {},
   "outputs": [
    {
     "data": {
      "text/plain": [
       "dict"
      ]
     },
     "execution_count": 14,
     "metadata": {},
     "output_type": "execute_result"
    }
   ],
   "source": [
    "x = {\"name\":\"Sameer\",\"age\":21}\n",
    "type(x)"
   ]
  },
  {
   "cell_type": "markdown",
   "id": "0c2ce0de",
   "metadata": {},
   "source": [
    "### List"
   ]
  },
  {
   "cell_type": "markdown",
   "id": "27b10680",
   "metadata": {},
   "source": [
    "##### 1. Allows Heterogenous\n",
    "##### 2. Index start from 0\n",
    "##### 3. Mutuable using index\n",
    "##### 4. []"
   ]
  },
  {
   "cell_type": "code",
   "execution_count": 15,
   "id": "f26615dd",
   "metadata": {},
   "outputs": [
    {
     "data": {
      "text/plain": [
       "[12, 43, 56, 'hii', (1+2j), 6.7]"
      ]
     },
     "execution_count": 15,
     "metadata": {},
     "output_type": "execute_result"
    }
   ],
   "source": [
    "sample_list=[12,43,56,\"hii\",1+2j,6.7]\n",
    "sample_list"
   ]
  },
  {
   "cell_type": "code",
   "execution_count": 16,
   "id": "c77c2671",
   "metadata": {},
   "outputs": [
    {
     "data": {
      "text/plain": [
       "list"
      ]
     },
     "execution_count": 16,
     "metadata": {},
     "output_type": "execute_result"
    }
   ],
   "source": [
    "type(sample_list)  "
   ]
  },
  {
   "cell_type": "code",
   "execution_count": 17,
   "id": "1c5aca34",
   "metadata": {},
   "outputs": [
    {
     "data": {
      "text/plain": [
       "12"
      ]
     },
     "execution_count": 17,
     "metadata": {},
     "output_type": "execute_result"
    }
   ],
   "source": [
    "sample_list[0]"
   ]
  },
  {
   "cell_type": "code",
   "execution_count": 18,
   "id": "c88b1296",
   "metadata": {},
   "outputs": [
    {
     "data": {
      "text/plain": [
       "'hii'"
      ]
     },
     "execution_count": 18,
     "metadata": {},
     "output_type": "execute_result"
    }
   ],
   "source": [
    "sample_list[3] "
   ]
  },
  {
   "cell_type": "code",
   "execution_count": 19,
   "id": "3bb16ed3",
   "metadata": {},
   "outputs": [
    {
     "data": {
      "text/plain": [
       "56"
      ]
     },
     "execution_count": 19,
     "metadata": {},
     "output_type": "execute_result"
    }
   ],
   "source": [
    "sample_list[2] "
   ]
  },
  {
   "cell_type": "code",
   "execution_count": 20,
   "id": "fa034e80",
   "metadata": {},
   "outputs": [
    {
     "data": {
      "text/plain": [
       "[12, 43, 3.5, 'hii', (1+2j), 6.7]"
      ]
     },
     "execution_count": 20,
     "metadata": {},
     "output_type": "execute_result"
    }
   ],
   "source": [
    "sample_list[2] = 3.5\n",
    "sample_list"
   ]
  },
  {
   "cell_type": "code",
   "execution_count": 21,
   "id": "493af06e",
   "metadata": {},
   "outputs": [
    {
     "data": {
      "text/plain": [
       "[6.7, (1+2j), 'hii', 3.5, 43, 12]"
      ]
     },
     "execution_count": 21,
     "metadata": {},
     "output_type": "execute_result"
    }
   ],
   "source": [
    "sample_list.reverse()\n",
    "sample_list"
   ]
  },
  {
   "cell_type": "markdown",
   "id": "b7a76e37",
   "metadata": {},
   "source": [
    "### Tuple"
   ]
  },
  {
   "cell_type": "markdown",
   "id": "a474cbf8",
   "metadata": {},
   "source": [
    "##### Allows Heterogenous\n",
    "##### Index start from 0 and retrieve using index\n",
    "##### Cannot change the data once is declared - immutable\n",
    "##### ()"
   ]
  },
  {
   "cell_type": "code",
   "execution_count": 22,
   "id": "8344b455",
   "metadata": {},
   "outputs": [
    {
     "data": {
      "text/plain": [
       "(23, 56, 'hii', (1+2j))"
      ]
     },
     "execution_count": 22,
     "metadata": {},
     "output_type": "execute_result"
    }
   ],
   "source": [
    "sample_tuple=(23,56,\"hii\",1+2j)\n",
    "sample_tuple"
   ]
  },
  {
   "cell_type": "code",
   "execution_count": 23,
   "id": "8d84db5c",
   "metadata": {},
   "outputs": [
    {
     "data": {
      "text/plain": [
       "tuple"
      ]
     },
     "execution_count": 23,
     "metadata": {},
     "output_type": "execute_result"
    }
   ],
   "source": [
    "type(sample_tuple)"
   ]
  },
  {
   "cell_type": "code",
   "execution_count": 24,
   "id": "37ff9821",
   "metadata": {},
   "outputs": [
    {
     "data": {
      "text/plain": [
       "(23, 56, 'hii', (1+2j))"
      ]
     },
     "execution_count": 24,
     "metadata": {},
     "output_type": "execute_result"
    }
   ],
   "source": [
    "sample_tuple=23,56,\"hii\",1+2j\n",
    "sample_tuple"
   ]
  },
  {
   "cell_type": "code",
   "execution_count": 25,
   "id": "5d86d69b",
   "metadata": {},
   "outputs": [
    {
     "data": {
      "text/plain": [
       "'hii'"
      ]
     },
     "execution_count": 25,
     "metadata": {},
     "output_type": "execute_result"
    }
   ],
   "source": [
    "sample_tuple[2]"
   ]
  },
  {
   "cell_type": "code",
   "execution_count": 26,
   "id": "0a82af2f",
   "metadata": {},
   "outputs": [
    {
     "data": {
      "text/plain": [
       "(1+2j)"
      ]
     },
     "execution_count": 26,
     "metadata": {},
     "output_type": "execute_result"
    }
   ],
   "source": [
    "sample_tuple[3]"
   ]
  },
  {
   "cell_type": "markdown",
   "id": "f2736c7e",
   "metadata": {},
   "source": [
    "##### 'tuple' object has no attribute 'reverse'   sample_tuple.reverse()\n",
    "##### 'tuple' object does not support item assignment  sample_tuple[2]=12"
   ]
  },
  {
   "cell_type": "markdown",
   "id": "9d3e9224",
   "metadata": {},
   "source": [
    "#####         "
   ]
  },
  {
   "cell_type": "markdown",
   "id": "dab93e42",
   "metadata": {},
   "source": [
    "### SET\n",
    "##### Add Heterogenous\n",
    "##### does not allow duplicates\n",
    "##### cannot access using index\n",
    "##### immutable using index but it's mutable\n",
    "##### ordered first place"
   ]
  },
  {
   "cell_type": "code",
   "execution_count": 27,
   "id": "9ca3cac8",
   "metadata": {},
   "outputs": [
    {
     "data": {
      "text/plain": [
       "set"
      ]
     },
     "execution_count": 27,
     "metadata": {},
     "output_type": "execute_result"
    }
   ],
   "source": [
    "sample_set={1,2,45,34,23,65,\"sameer\",1+2j,56.45,\"khan\",34}\n",
    "type(sample_set)"
   ]
  },
  {
   "cell_type": "code",
   "execution_count": 28,
   "id": "906c32e2",
   "metadata": {},
   "outputs": [
    {
     "data": {
      "text/plain": [
       "{(1+2j), 1, 2, 23, 34, 45, 56.45, 65, 'khan', 'sameer'}"
      ]
     },
     "execution_count": 28,
     "metadata": {},
     "output_type": "execute_result"
    }
   ],
   "source": [
    " sample_set"
   ]
  },
  {
   "cell_type": "markdown",
   "id": "e3a5ff1f",
   "metadata": {},
   "source": [
    "###### cannot retrieve with index, no assignmnet, no reverse"
   ]
  },
  {
   "cell_type": "code",
   "execution_count": 29,
   "id": "ba368019",
   "metadata": {},
   "outputs": [
    {
     "data": {
      "text/plain": [
       "{(1+2j), 1, 2, 23, 45, 56.45, 65, 'khan', 'sameer'}"
      ]
     },
     "execution_count": 29,
     "metadata": {},
     "output_type": "execute_result"
    }
   ],
   "source": [
    "sample_set.remove(34)\n",
    "sample_set"
   ]
  },
  {
   "cell_type": "code",
   "execution_count": 30,
   "id": "6b90ac5b",
   "metadata": {},
   "outputs": [
    {
     "data": {
      "text/plain": [
       "{(1+2j), 1, 2, 23, 45, 56.45, 65, 77, 'khan', 'sameer'}"
      ]
     },
     "execution_count": 30,
     "metadata": {},
     "output_type": "execute_result"
    }
   ],
   "source": [
    "sample_set.add(77)\n",
    "sample_set"
   ]
  },
  {
   "cell_type": "markdown",
   "id": "3a49ba4d",
   "metadata": {},
   "source": [
    "### Dictinory\n",
    "##### 1.dictionary has key value pair datastructure\n",
    "##### 2.key is unique and values can be dubplicated\n",
    "##### 3.can retrieve value using key\n",
    "##### 4.can change value using key\n",
    "##### 5.key is immutable"
   ]
  },
  {
   "cell_type": "code",
   "execution_count": 31,
   "id": "0122671a",
   "metadata": {},
   "outputs": [
    {
     "data": {
      "text/plain": [
       "dict"
      ]
     },
     "execution_count": 31,
     "metadata": {},
     "output_type": "execute_result"
    }
   ],
   "source": [
    "sample_dist={\"a\":\"alpha\",1:\"mno\",\"b\":2,\"c\":3, 1:\"xyz\"}\n",
    "type(sample_dist)"
   ]
  },
  {
   "cell_type": "code",
   "execution_count": 32,
   "id": "ece4aeac",
   "metadata": {},
   "outputs": [
    {
     "data": {
      "text/plain": [
       "{'a': 'alpha', 1: 'xyz', 'b': 2, 'c': 3}"
      ]
     },
     "execution_count": 32,
     "metadata": {},
     "output_type": "execute_result"
    }
   ],
   "source": [
    "sample_dist"
   ]
  },
  {
   "cell_type": "markdown",
   "id": "89d4eb0f",
   "metadata": {},
   "source": [
    "##### retrieve by key,  keys are unique/values can be duplicated"
   ]
  },
  {
   "cell_type": "code",
   "execution_count": 33,
   "id": "6d647281",
   "metadata": {},
   "outputs": [
    {
     "data": {
      "text/plain": [
       "'alpha'"
      ]
     },
     "execution_count": 33,
     "metadata": {},
     "output_type": "execute_result"
    }
   ],
   "source": [
    "sample_dist[\"a\"]"
   ]
  },
  {
   "cell_type": "code",
   "execution_count": 34,
   "id": "0e5108a4",
   "metadata": {},
   "outputs": [
    {
     "data": {
      "text/plain": [
       "'xyz'"
      ]
     },
     "execution_count": 34,
     "metadata": {},
     "output_type": "execute_result"
    }
   ],
   "source": [
    "sample_dist[1]"
   ]
  },
  {
   "cell_type": "code",
   "execution_count": 35,
   "id": "85560395",
   "metadata": {},
   "outputs": [],
   "source": [
    "sample_dist[6]=\"abc\""
   ]
  },
  {
   "cell_type": "code",
   "execution_count": 36,
   "id": "f9cc8818",
   "metadata": {},
   "outputs": [
    {
     "data": {
      "text/plain": [
       "{'a': 'alpha', 1: 'xyz', 'b': 2, 'c': 3, 6: 'abc'}"
      ]
     },
     "execution_count": 36,
     "metadata": {},
     "output_type": "execute_result"
    }
   ],
   "source": [
    "sample_dist"
   ]
  },
  {
   "cell_type": "code",
   "execution_count": null,
   "id": "6ac45a38",
   "metadata": {},
   "outputs": [],
   "source": []
  }
 ],
 "metadata": {
  "kernelspec": {
   "display_name": "Python 3 (ipykernel)",
   "language": "python",
   "name": "python3"
  },
  "language_info": {
   "codemirror_mode": {
    "name": "ipython",
    "version": 3
   },
   "file_extension": ".py",
   "mimetype": "text/x-python",
   "name": "python",
   "nbconvert_exporter": "python",
   "pygments_lexer": "ipython3",
   "version": "3.9.12"
  }
 },
 "nbformat": 4,
 "nbformat_minor": 5
}
